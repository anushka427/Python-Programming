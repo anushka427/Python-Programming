{
 "cells": [
  {
   "cell_type": "markdown",
   "metadata": {},
   "source": [
    "## DAY 1 Assignment 6\n"
   ]
  },
  {
   "cell_type": "markdown",
   "metadata": {},
   "source": [
    "### 1. What is the primary goal of Object-Oriented Programming (OOP)?\n",
    "Primary goal of OOP: To organize code into reusable, modular components using objects and classes, enhancing maintainability and scalability."
   ]
  },
  {
   "cell_type": "markdown",
   "metadata": {},
   "source": [
    "### 2. What is an object in Python?\n",
    "Object in Python: An instance of a class containing data (attributes) and behaviors (methods)."
   ]
  },
  {
   "cell_type": "markdown",
   "metadata": {},
   "source": [
    "### 3. What is a class in Python?\n",
    "Class in Python: A blueprint for creating objects, defining their attributes and methods.\n",
    "\n",
    "\n"
   ]
  },
  {
   "cell_type": "markdown",
   "metadata": {},
   "source": [
    "###  4. What are attributes and methods in a class?\n",
    "Attributes and methods-\n",
    "Attributes: Variables in a class that store data.\n",
    "Methods: Functions in a class that define object behavior."
   ]
  },
  {
   "cell_type": "markdown",
   "metadata": {},
   "source": [
    "###  5. What is the difference between class variables and instance variables in Python?\n",
    "Class vs. instance variables-\n",
    "Class variables: Shared across all instances of a class.\n",
    "Instance variables: Unique to each object instance."
   ]
  },
  {
   "cell_type": "markdown",
   "metadata": {},
   "source": [
    "###  6. What is the purpose of the self parameter in Python class methods?\n",
    "Purpose of self: Refers to the current object instance, allowing access to its attributes and methods."
   ]
  },
  {
   "cell_type": "markdown",
   "metadata": {},
   "source": [
    "###  7. For a library management system, you have to design the \"Book\" class with OOP\n",
    " principles in mind. The “Book” class will have following attributes:\n",
    " a. title: Represents the title of the book.\n",
    " b. author: Represents the author(s) of the book.\n",
    " c. isbn: Represents the ISBN (International Standard Book Number) of the book.\n",
    " d. publication_year: Represents the year of publication of the book.\n",
    " e. available_copies: Represents the number of copies available for checkout.\n",
    " The class will also include the following methods:\n",
    " a. check_out(self): Decrements the available copies by one if there are copies\n",
    " available for checkout.\n",
    " b. return_book(self): Increments the available copies by one when a book is\n",
    " returned.\n",
    " c. display_book_info(self): Displays the information about the book, including its\n",
    " attributes and the number of available copies."
   ]
  },
  {
   "cell_type": "code",
   "execution_count": 5,
   "metadata": {},
   "outputs": [
    {
     "name": "stdout",
     "output_type": "stream",
     "text": [
      "Title: Python 101\n",
      "Author: John Doe\n",
      "ISBN: 123456789\n",
      "Publication Year: 2020\n",
      "Available Copies: 3\n",
      "Book 'Python 101' checked out successfully.\n",
      "Book 'Python 101' returned successfully.\n"
     ]
    }
   ],
   "source": [
    "class Book:\n",
    "    def __init__(self, title, author, isbn, publication_year, available_copies):\n",
    "        self.title = title\n",
    "        self.author = author\n",
    "        self.isbn = isbn\n",
    "        self.publication_year = publication_year\n",
    "        self.available_copies = available_copies\n",
    "\n",
    "    def check_out(self):\n",
    "        if self.available_copies > 0:\n",
    "            self.available_copies -= 1\n",
    "            print(f\"Book '{self.title}' checked out successfully.\")\n",
    "        else:\n",
    "            print(\"No copies available for checkout.\")\n",
    "\n",
    "    def return_book(self):\n",
    "        self.available_copies += 1\n",
    "        print(f\"Book '{self.title}' returned successfully.\")\n",
    "\n",
    "    def display_book_info(self):\n",
    "        print(f\"Title: {self.title}\\nAuthor: {self.author}\\nISBN: {self.isbn}\\n\"\n",
    "              f\"Publication Year: {self.publication_year}\\nAvailable Copies: {self.available_copies}\")\n",
    "        \n",
    "# Example usage \n",
    "if __name__ == \"__main__\":\n",
    "    # Book Example\n",
    "    book = Book(\"Python 101\", \"John Doe\", \"123456789\", 2020, 3)\n",
    "    book.display_book_info()\n",
    "    book.check_out()\n",
    "    book.return_book()"
   ]
  },
  {
   "cell_type": "markdown",
   "metadata": {},
   "source": [
    "###  8. For a ticket booking system, you have to design the \"Ticket\" class with OOP\n",
    " principles in mind. The “Ticket” class should have the following attributes:\n",
    " a. ticket_id: Represents the unique identifier for the ticket.\n",
    " b. event_name: Represents the name of the event.\n",
    " c. event_date: Represents the date of the event.\n",
    " d. venue: Represents the venue of the event.\n",
    " e. seat_number: Represents the seat number associated with the ticket.\n",
    " f.\n",
    " price: Represents the price of the ticket.\n",
    " g. is_reserved: Represents the reservation status of the ticket.\n",
    " The class also includes the following methods:\n",
    " a. reserve_ticket(self): Marks the ticket as reserved if it is not already reserved.\n",
    " b. cancel_reservation(self): Cancels the reservation of the ticket if it is already\n",
    " reserved.\n",
    " c. display_ticket_info(self): Displays the information about the ticket, including its\n",
    " attributes and reservation status."
   ]
  },
  {
   "cell_type": "code",
   "execution_count": 6,
   "metadata": {},
   "outputs": [
    {
     "name": "stdout",
     "output_type": "stream",
     "text": [
      "Ticket ID: T123\n",
      "Event Name: Concert\n",
      "Event Date: 2024-12-31\n",
      "Venue: Stadium\n",
      "Seat Number: A12\n",
      "Price: 100.0\n",
      "Reservation Status: Not Reserved\n",
      "Ticket T123 reserved successfully.\n",
      "Reservation for Ticket T123 cancelled successfully.\n"
     ]
    }
   ],
   "source": [
    "class Ticket:\n",
    "    def __init__(self, ticket_id, event_name, event_date, venue, seat_number, price, is_reserved=False):\n",
    "        self.ticket_id = ticket_id\n",
    "        self.event_name = event_name\n",
    "        self.event_date = event_date\n",
    "        self.venue = venue\n",
    "        self.seat_number = seat_number\n",
    "        self.price = price\n",
    "        self.is_reserved = is_reserved\n",
    "\n",
    "    def reserve_ticket(self):\n",
    "        if not self.is_reserved:\n",
    "            self.is_reserved = True\n",
    "            print(f\"Ticket {self.ticket_id} reserved successfully.\")\n",
    "        else:\n",
    "            print(\"Ticket is already reserved.\")\n",
    "\n",
    "    def cancel_reservation(self):\n",
    "        if self.is_reserved:\n",
    "            self.is_reserved = False\n",
    "            print(f\"Reservation for Ticket {self.ticket_id} cancelled successfully.\")\n",
    "        else:\n",
    "            print(\"Ticket is not reserved.\")\n",
    "\n",
    "    def display_ticket_info(self):\n",
    "        print(f\"Ticket ID: {self.ticket_id}\\nEvent Name: {self.event_name}\\nEvent Date: {self.event_date}\\n\"\n",
    "              f\"Venue: {self.venue}\\nSeat Number: {self.seat_number}\\nPrice: {self.price}\\n\"\n",
    "              f\"Reservation Status: {'Reserved' if self.is_reserved else 'Not Reserved'}\")\n",
    "        \n",
    "    # Example usage \n",
    "    ticket = Ticket(\"T123\", \"Concert\", \"2024-12-31\", \"Stadium\", \"A12\", 100.0)\n",
    "    ticket.display_ticket_info()\n",
    "    ticket.reserve_ticket()\n",
    "    ticket.cancel_reservation()\n"
   ]
  },
  {
   "cell_type": "markdown",
   "metadata": {},
   "source": [
    "###  9. You are creating a shopping cart for an e-commerce website. Using OOP to model\n",
    " the \"ShoppingCart\" functionality the class should contain following attributes and\n",
    " methods:\n",
    " a. items: Represents the list of items in the shopping cart.\n",
    " The class also includes the following methods:\n",
    "a. add_item(self, item): Adds an item to the shopping cart by appending it to the\n",
    " list of items.\n",
    " b. remove_item(self, item): Removes an item from the shopping cart if it exists in\n",
    " the list.\n",
    " c. view_cart(self): Displays the items currently present in the shopping cart.\n",
    " d. clear_cart(self): Clears all items from the shopping cart by reassigning an\n",
    " empty list to the items attribute."
   ]
  },
  {
   "cell_type": "code",
   "execution_count": 7,
   "metadata": {},
   "outputs": [
    {
     "name": "stdout",
     "output_type": "stream",
     "text": [
      "Item 'Laptop' added to the cart.\n",
      "Items in the cart:\n",
      "- Laptop\n",
      "Item 'Laptop' removed from the cart.\n",
      "The cart has been cleared.\n"
     ]
    }
   ],
   "source": [
    "class ShoppingCart:\n",
    "    def __init__(self):\n",
    "        self.items = []\n",
    "\n",
    "    def add_item(self, item):\n",
    "        self.items.append(item)\n",
    "        print(f\"Item '{item}' added to the cart.\")\n",
    "\n",
    "    def remove_item(self, item):\n",
    "        if item in self.items:\n",
    "            self.items.remove(item)\n",
    "            print(f\"Item '{item}' removed from the cart.\")\n",
    "        else:\n",
    "            print(f\"Item '{item}' not found in the cart.\")\n",
    "\n",
    "    def view_cart(self):\n",
    "        if self.items:\n",
    "            print(\"Items in the cart:\")\n",
    "            for item in self.items:\n",
    "                print(f\"- {item}\")\n",
    "        else:\n",
    "            print(\"The cart is empty.\")\n",
    "\n",
    "    def clear_cart(self):\n",
    "        self.items = []\n",
    "        print(\"The cart has been cleared.\")\n",
    "        \n",
    "    # Example usage \n",
    "    cart = ShoppingCart()\n",
    "    cart.add_item(\"Laptop\")\n",
    "    cart.view_cart()\n",
    "    cart.remove_item(\"Laptop\")\n",
    "    cart.clear_cart()"
   ]
  },
  {
   "cell_type": "markdown",
   "metadata": {},
   "source": [
    "###  10. Imagine a school management system. You have to design the \"Student\" class using\n",
    " OOPconcepts.The “Student” class has the following attributes:\n",
    " a. name: Represents the name of the student.\n",
    " b. age: Represents the age of the student.\n",
    " c. grade: Represents the grade or class of the student.\n",
    " d. student_id: Represents the unique identifier for the student.\n",
    " e. attendance: Represents the attendance record of the student.\n",
    " The class should also include the following methods:\n",
    " a. update_attendance(self, date, status): Updates the attendance record of the\n",
    " student for a given date with the provided status (e.g., present or absent).\n",
    " b. get_attendance(self): Returns the attendance record of the student.\n",
    " c. get_average_attendance(self): Calculates and returns the average\n",
    " attendance percentage of the student based on their attendance record."
   ]
  },
  {
   "cell_type": "code",
   "execution_count": 8,
   "metadata": {},
   "outputs": [
    {
     "name": "stdout",
     "output_type": "stream",
     "text": [
      "Attendance updated for Alice on 2024-12-10: Present\n",
      "Attendance updated for Alice on 2024-12-11: Absent\n",
      "{'2024-12-10': 'Present', '2024-12-11': 'Absent'}\n",
      "Average Attendance: 50.00%\n"
     ]
    }
   ],
   "source": [
    "class Student:\n",
    "    def __init__(self, name, age, grade, student_id):\n",
    "        self.name = name\n",
    "        self.age = age\n",
    "        self.grade = grade\n",
    "        self.student_id = student_id\n",
    "        self.attendance = {}\n",
    "\n",
    "    def update_attendance(self, date, status):\n",
    "        self.attendance[date] = status\n",
    "        print(f\"Attendance updated for {self.name} on {date}: {status}\")\n",
    "\n",
    "    def get_attendance(self):\n",
    "        return self.attendance\n",
    "\n",
    "    def get_average_attendance(self):\n",
    "        total_days = len(self.attendance)\n",
    "        present_days = sum(1 for status in self.attendance.values() if status.lower() == 'present')\n",
    "        average = (present_days / total_days) * 100 if total_days > 0 else 0\n",
    "        return average\n",
    "    \n",
    "    # Example usage \n",
    "    student = Student(\"Alice\", 16, \"10th\", \"S123\")\n",
    "    student.update_attendance(\"2024-12-10\", \"Present\")\n",
    "    student.update_attendance(\"2024-12-11\", \"Absent\")\n",
    "    print(student.get_attendance())\n",
    "    print(f\"Average Attendance: {student.get_average_attendance():.2f}%\")\n"
   ]
  }
 ],
 "metadata": {
  "kernelspec": {
   "display_name": "base",
   "language": "python",
   "name": "python3"
  },
  "language_info": {
   "codemirror_mode": {
    "name": "ipython",
    "version": 3
   },
   "file_extension": ".py",
   "mimetype": "text/x-python",
   "name": "python",
   "nbconvert_exporter": "python",
   "pygments_lexer": "ipython3",
   "version": "3.9.13"
  }
 },
 "nbformat": 4,
 "nbformat_minor": 2
}
